{
  "nbformat": 4,
  "nbformat_minor": 0,
  "metadata": {
    "colab": {
      "name": "DS challenge.ipynb",
      "provenance": [],
      "authorship_tag": "ABX9TyOezALVBPInvbgcobyivPWA",
      "include_colab_link": true
    },
    "kernelspec": {
      "name": "python3",
      "display_name": "Python 3"
    },
    "language_info": {
      "name": "python"
    }
  },
  "cells": [
    {
      "cell_type": "markdown",
      "metadata": {
        "id": "view-in-github",
        "colab_type": "text"
      },
      "source": [
        "<a href=\"https://colab.research.google.com/github/Rifahaziz/DS_challenge/blob/main/DS_challenge.ipynb\" target=\"_parent\"><img src=\"https://colab.research.google.com/assets/colab-badge.svg\" alt=\"Open In Colab\"/></a>"
      ]
    },
    {
      "cell_type": "code",
      "metadata": {
        "id": "BD_UjDqVjR3h"
      },
      "source": [
        "import pandas as pd\n",
        "import matplotlib.pyplot as plt\n",
        "import numpy as np"
      ],
      "execution_count": 9,
      "outputs": []
    },
    {
      "cell_type": "code",
      "metadata": {
        "id": "9qcc4jvKjnYd"
      },
      "source": [
        "data = pd.read_csv(\"2019 Winter Data Science Intern Challenge Data Set - Sheet1.csv\")"
      ],
      "execution_count": 3,
      "outputs": []
    },
    {
      "cell_type": "code",
      "metadata": {
        "id": "w44R1pEfq5Zs"
      },
      "source": [
        "data_df=pd.DataFrame(data)"
      ],
      "execution_count": 13,
      "outputs": []
    },
    {
      "cell_type": "markdown",
      "metadata": {
        "id": "LXx2eR0bkmWg"
      },
      "source": [
        "**`Answers of Question 1`**"
      ]
    },
    {
      "cell_type": "code",
      "metadata": {
        "colab": {
          "base_uri": "https://localhost:8080/"
        },
        "id": "VRvUZjtDjywp",
        "outputId": "87b582e6-4798-4f64-efaa-a532a2bb5060"
      },
      "source": [
        "data_df['order_amount'].mean()"
      ],
      "execution_count": 14,
      "outputs": [
        {
          "output_type": "execute_result",
          "data": {
            "text/plain": [
              "3145.128"
            ]
          },
          "metadata": {},
          "execution_count": 14
        }
      ]
    },
    {
      "cell_type": "code",
      "metadata": {
        "colab": {
          "base_uri": "https://localhost:8080/",
          "height": 345
        },
        "id": "dGiluUAnm8Kw",
        "outputId": "1253fa94-dffa-4052-fae5-5ac994cfa717"
      },
      "source": [
        "fig, scplot = plt.subplots(figsize=(16,8))\n",
        "scplot.scatter(data['order_id'], data['order_amount'])\n",
        "scplot.set_xlabel('Order ID')\n",
        "scplot.set_ylabel('Order Amount')\n",
        "plt.show()"
      ],
      "execution_count": 7,
      "outputs": [
        {
          "output_type": "display_data",
          "data": {
            "image/png": "[encoded data removed]",
            "text/plain": [
              "<Figure size 1152x576 with 1 Axes>"
            ]
          },
          "metadata": {
            "needs_background": "light"
          }
        }
      ]
    },
    {
      "cell_type": "markdown",
      "metadata": {
        "id": "5XAA3uirkz2y"
      },
      "source": [
        "a) It seems like the average value is too high, which could be due to outliers in the dataset. We can find outliers through scatterplot,boxplot, IQR or by using Z-score. I will use scatter-plot to see if there exists any outlier. <br>\n",
        "The scatterplot shows there exists outliers at around 700,000 order amount. Therefore, this is possibly the reason for the high mean value."
      ]
    },
    {
      "cell_type": "markdown",
      "metadata": {
        "id": "wKexlAm5oXks"
      },
      "source": [
        "b) Percentiles could be used for a better estimation of the values, providing us with values for median(50th percentile) as well as 25th and 75th percentiles, followed by IQR and boxplots for visualization."
      ]
    },
    {
      "cell_type": "markdown",
      "metadata": {
        "id": "c82acxZqsoWH"
      },
      "source": [
        "c) Values are given below:"
      ]
    },
    {
      "cell_type": "code",
      "metadata": {
        "colab": {
          "base_uri": "https://localhost:8080/"
        },
        "id": "E7n2Umesr-n1",
        "outputId": "f8c766bc-b3d5-4beb-a3c4-27ad4ccd5d77"
      },
      "source": [
        "data_df['order_amount'].describe(percentiles=[0.25, 0.5, 0.75])"
      ],
      "execution_count": 24,
      "outputs": [
        {
          "output_type": "execute_result",
          "data": {
            "text/plain": [
              "count      5000.000000\n",
              "mean       3145.128000\n",
              "std       41282.539349\n",
              "min          90.000000\n",
              "25%         163.000000\n",
              "50%         284.000000\n",
              "75%         390.000000\n",
              "max      704000.000000\n",
              "Name: order_amount, dtype: float64"
            ]
          },
          "metadata": {},
          "execution_count": 24
        }
      ]
    },
    {
      "cell_type": "markdown",
      "metadata": {
        "id": "JAUZDze7suEg"
      },
      "source": [
        "**Answers of Question 2**"
      ]
    },
    {
      "cell_type": "markdown",
      "metadata": {
        "id": "mj2xrxBvtQFV"
      },
      "source": [
        "a) <br>\n",
        "SELECT COUNT(OrderID) <br>\n",
        "FROM Orders, Shippers  <br>\n",
        "WHERE Orders.ShipperId = Shippers.ShipperId AND ShipperName = \"Speedy Express\"; <br> <br>\n",
        "\n",
        "Output = 54"
      ]
    },
    {
      "cell_type": "markdown",
      "metadata": {
        "id": "dV4IuTxK_lgK"
      },
      "source": [
        "b) <br>\n",
        "SELECT distinct emp.lastname FROM employees emp <BR>\n",
        "INNER JOIN orders ord on emp.EmployeeID=ord.EmployeeID <BR>\n",
        "INNER JOIN orderdetails ordd on ord.orderID=ordd.orderID AND <BR>\n",
        "ordd.quantity= (SELECT MAX(quantity) FROM orderdetails)\n",
        "<BR><BR>\n",
        "Output = Fuller "
      ]
    },
    {
      "cell_type": "markdown",
      "metadata": {
        "id": "9HOYWomoFVOo"
      },
      "source": [
        "c) <BR>\n",
        "SELECT Products.ProductName, Customers.Country, Count(Orders.OrderID) as n FROM Customers <br>\n",
        "JOIN Orders on Customers.CustomerID = Orders.CustomerID <BR>\n",
        "JOIN OrderDetails on Orders.OrderID = OrderDetails.OrderID <BR>\n",
        "JOIN Products ON OrderDetails.ProductID = Products.ProductID <BR>\n",
        "WHERE Country = 'Germany' <BR>\n",
        "GROUP BY ProductName ORDER BY n Desc\n",
        "<BR><BR>\n",
        "\n",
        "Output = Gorgonzola Telino"
      ]
    },
    {
      "cell_type": "code",
      "metadata": {
        "id": "-YrKd0ZdsyHk"
      },
      "source": [
        ""
      ],
      "execution_count": null,
      "outputs": []
    }
  ]
}